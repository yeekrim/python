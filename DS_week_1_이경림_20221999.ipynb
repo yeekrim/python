{
  "nbformat": 4,
  "nbformat_minor": 0,
  "metadata": {
    "colab": {
      "provenance": []
    },
    "kernelspec": {
      "name": "python3",
      "display_name": "Python 3"
    }
  },
  "cells": [
    {
      "cell_type": "code",
      "metadata": {
        "pycharm": {
          "name": "#%%\n"
        },
        "id": "alxxlxeaxzTf",
        "colab": {
          "base_uri": "https://localhost:8080/"
        },
        "outputId": "a5080d2f-ab57-4455-87ca-cf92b0833989"
      },
      "source": [
        "# 문제 1. Hello, World! 출력하세요.\n",
        "\n",
        "# 정답 1. \n",
        "print(\"Hello, World!\")"
      ],
      "execution_count": null,
      "outputs": [
        {
          "output_type": "stream",
          "name": "stdout",
          "text": [
            "Hello, World!\n"
          ]
        }
      ]
    },
    {
      "cell_type": "code",
      "metadata": {
        "pycharm": {
          "name": "#%%\n"
        },
        "id": "Cl8JMZ2KxzTi",
        "colab": {
          "base_uri": "https://localhost:8080/"
        },
        "outputId": "b73b6739-efcb-4bba-fa6a-77fef8c8d746"
      },
      "source": [
        "# 문제 2. samsung 이라는 변수로 50000원을 설정하시오. samsung 주식 10주를 보유하고 있을 때, 총 평가금액을 출력하세요.\n",
        "\n",
        "# 정답 2.\n",
        "samsung = 50000\n",
        "samsung_10 = samsung*10\n",
        "print(samsung_10)"
      ],
      "execution_count": null,
      "outputs": [
        {
          "output_type": "stream",
          "name": "stdout",
          "text": [
            "500000\n"
          ]
        }
      ]
    },
    {
      "cell_type": "code",
      "metadata": {
        "pycharm": {
          "name": "#%%\n"
        },
        "id": "UchOLoQHxzTi",
        "colab": {
          "base_uri": "https://localhost:8080/"
        },
        "outputId": "ce4cae33-a72b-44de-96b2-45e59d8b7e4f"
      },
      "source": [
        "# 문제 3. 아래 변수에 바인딩된 값의 타입을 판별해보세요.\n",
        "a = \"132\"\n",
        "\n",
        "# 정답 3.\n",
        "a_type = type(a)\n",
        "print(a_type)"
      ],
      "execution_count": null,
      "outputs": [
        {
          "output_type": "stream",
          "name": "stdout",
          "text": [
            "<class 'str'>\n"
          ]
        }
      ]
    },
    {
      "cell_type": "code",
      "metadata": {
        "pycharm": {
          "name": "#%%\n"
        },
        "id": "hJwEQNIVxzTj",
        "colab": {
          "base_uri": "https://localhost:8080/"
        },
        "outputId": "a7f58617-e5c3-40d4-903f-03821cb7b770"
      },
      "source": [
        "# 문제 4. 문자열 \"720\"을 정수형으로 변환한 변수와 타입을 출력하세요.\n",
        "num_str = \"720\"\n",
        "\n",
        "# 정답 4.\n",
        "num_int = int(num_str)\n",
        "print(num_int)\n",
        "print(type(num_int))"
      ],
      "execution_count": null,
      "outputs": [
        {
          "output_type": "stream",
          "name": "stdout",
          "text": [
            "720\n",
            "<class 'int'>\n"
          ]
        }
      ]
    },
    {
      "cell_type": "code",
      "metadata": {
        "pycharm": {
          "name": "#%%\n"
        },
        "id": "wzitip7kxzTj",
        "colab": {
          "base_uri": "https://localhost:8080/"
        },
        "outputId": "889eab1d-834a-4aec-f4ff-2a525b51e821"
      },
      "source": [
        "# 문제 5. 실수형 3.141592 를 문자열로 변환한 변수와 타입을 출력하세요.\n",
        "pi = 3.141592\n",
        "\n",
        "# 정답 5.\n",
        "pi_str = str(pi)\n",
        "print(pi_str)\n",
        "print(type(pi_str))"
      ],
      "execution_count": null,
      "outputs": [
        {
          "output_type": "stream",
          "name": "stdout",
          "text": [
            "3.141592\n",
            "<class 'str'>\n"
          ]
        }
      ]
    },
    {
      "cell_type": "code",
      "metadata": {
        "pycharm": {
          "name": "#%%\n"
        },
        "id": "KQM9hFc2xzTj",
        "colab": {
          "base_uri": "https://localhost:8080/"
        },
        "outputId": "9a200017-4c6b-4a3a-f344-039d945e8006"
      },
      "source": [
        "# 문제 6. 문자열 \"3.141592\" 를 실수형으로 변환한 변수와 타입을 출력하세요.\n",
        "pi = \"3.141592\"\n",
        "\n",
        "# 정답 6.\n",
        "pi_float = float(pi)\n",
        "print(pi_float)\n",
        "print(type(pi_float))"
      ],
      "execution_count": null,
      "outputs": [
        {
          "output_type": "stream",
          "name": "stdout",
          "text": [
            "3.141592\n",
            "<class 'float'>\n"
          ]
        }
      ]
    },
    {
      "cell_type": "code",
      "metadata": {
        "pycharm": {
          "name": "#%%\n"
        },
        "id": "bjEICf1FxzTj",
        "colab": {
          "base_uri": "https://localhost:8080/"
        },
        "outputId": "85f54ce1-41d1-43d7-a9e4-9ac74cd6c22c"
      },
      "source": [
        "# 문제 7. 에어컨이 월 48,584원에 무이자 36개월의 조건으로 홈쇼핑에서 판매 중입니다. 총 구입 금액을 계산한 후 이를 출력하세요.\n",
        "\n",
        "# 정답 7.\n",
        "airconditioner_month = 48584\n",
        "res = airconditioner_month*36\n",
        "print(res)"
      ],
      "execution_count": null,
      "outputs": [
        {
          "output_type": "stream",
          "name": "stdout",
          "text": [
            "1749024\n"
          ]
        }
      ]
    },
    {
      "cell_type": "code",
      "metadata": {
        "pycharm": {
          "name": "#%%\n"
        },
        "id": "2PKkq8GHxzTj",
        "colab": {
          "base_uri": "https://localhost:8080/"
        },
        "outputId": "91e99ad8-9e9f-473f-c86c-a9f958bfd389"
      },
      "source": [
        "# 문제 8. 두 정수 A와 B를 입력받은 다음, A+B 결과값을 출력하는 프로그램을 작성하시오.\n",
        "# 입력 시, A에 30, B에 10 입력하세요.\n",
        "# 문제 링크: https://www.acmicpc.net/problem/1000\n",
        "\n",
        "# 정답 8.\n",
        "values = input()\n",
        "values = values.split()\n",
        "a = int(values[0])\n",
        "b = int(values[1])\n",
        "# 코드 작성: A+B 결과값 출력하는 코드\n",
        "print(a+b)"
      ],
      "execution_count": null,
      "outputs": [
        {
          "output_type": "stream",
          "name": "stdout",
          "text": [
            "30 10\n",
            "40\n"
          ]
        }
      ]
    },
    {
      "cell_type": "code",
      "metadata": {
        "pycharm": {
          "name": "#%%\n"
        },
        "id": "MWGZWKwFxzTk",
        "colab": {
          "base_uri": "https://localhost:8080/"
        },
        "outputId": "22ffce51-891d-44ee-99cb-4b4f72d241b8"
      },
      "source": [
        "# 문제 9. 두 정수 A와 B를 입력받은 다음, A/B 결과값을 출력하는 프로그램을 작성하시오.\n",
        "# 입력 시, A에 30, B에 10 입력하세요.\n",
        "# 문제 링크: https://www.acmicpc.net/problem/1008\n",
        "\n",
        "# 정답 9.\n",
        "values = input()\n",
        "values = values.split()\n",
        "a = int(values[0])\n",
        "b = int(values[1])\n",
        "# 코드 작성: A/B 결과값 출력하는 코드\n",
        "print(a/b)"
      ],
      "execution_count": null,
      "outputs": [
        {
          "output_type": "stream",
          "name": "stdout",
          "text": [
            "30 10\n",
            "3.0\n"
          ]
        }
      ]
    },
    {
      "cell_type": "code",
      "metadata": {
        "id": "rV1GVflHEXn0",
        "colab": {
          "base_uri": "https://localhost:8080/"
        },
        "outputId": "c7b8566f-b352-4c89-95ba-d459073e7f9d"
      },
      "source": [
        "# 문제 10. 학번과 이름이 다음과 같을 때 이름만 출력하기\n",
        "license_plate = \"20221999 이경림\"  # 수강생 분의 학번, 이름 반영 바랍니다.\n",
        "\n",
        "# 정답 10.\n",
        "license_plate = license_plate.split()\n",
        "name = str(license_plate[1])\n",
        "print(name)"
      ],
      "execution_count": null,
      "outputs": [
        {
          "output_type": "stream",
          "name": "stdout",
          "text": [
            "이경림\n"
          ]
        }
      ]
    },
    {
      "cell_type": "code",
      "metadata": {
        "id": "Fuqb_cC-EQlv",
        "colab": {
          "base_uri": "https://localhost:8080/"
        },
        "outputId": "a07b2bf3-3be3-4ea5-bc9b-2630bfaaa29a"
      },
      "source": [
        "# 문제 11. 아래의 전화번호에서 하이픈('-')을 제거하고 출력하기\n",
        "phone_number = \"010-1111-2222\"\n",
        "\n",
        "# 정답 11.\n",
        "res = phone_number.replace('-',' ')\n",
        "print(res)"
      ],
      "execution_count": null,
      "outputs": [
        {
          "output_type": "stream",
          "name": "stdout",
          "text": [
            "010 1111 2222\n"
          ]
        }
      ]
    },
    {
      "cell_type": "code",
      "metadata": {
        "id": "ZuRraohFFxfm",
        "colab": {
          "base_uri": "https://localhost:8080/"
        },
        "outputId": "150e3e31-16a6-405f-85d2-7ee4ce1db007"
      },
      "source": [
        "# 문제 12. 아래 문자열에서 소문자 'a'를 대문자 'A'로 변경하기\n",
        "string = \"abcdfe2a354a32\"\n",
        "\n",
        "# 정답 12.\n",
        "for i in string :\n",
        "    if i=='a' :\n",
        "      i = 'A'\n",
        "    print(i, end='')\n"
      ],
      "execution_count": null,
      "outputs": [
        {
          "output_type": "stream",
          "name": "stdout",
          "text": [
            "Abcdfe2A354A32"
          ]
        }
      ]
    },
    {
      "cell_type": "code",
      "metadata": {
        "id": "g6r46qL8F9D6",
        "colab": {
          "base_uri": "https://localhost:8080/"
        },
        "outputId": "da50b363-bf77-452a-ee82-33e860f02e11"
      },
      "source": [
        "# 문제 13. 문자열을 소문자 btc_krw로 변경하기\n",
        "ticker = \"BTC_KRW\"\n",
        "\n",
        "# 정답 13.\n",
        "print(ticker.lower())"
      ],
      "execution_count": null,
      "outputs": [
        {
          "output_type": "stream",
          "name": "stdout",
          "text": [
            "btc_krw\n"
          ]
        }
      ]
    },
    {
      "cell_type": "code",
      "metadata": {
        "id": "TNrELlmVGNJa",
        "colab": {
          "base_uri": "https://localhost:8080/"
        },
        "outputId": "cc776297-2250-4fa8-ffe5-659595f7ba31"
      },
      "source": [
        "# 문제 14. 파일 이름이 문자열로 저장되어 있을 때, startswith 함수로\n",
        "# 파일 이름이 '2020'로 시작하는지 확인하기\n",
        "file_name = \"2020_보고서.xlsx\"\n",
        "\n",
        "#정답 14.\n",
        "print(file_name.startswith(\"2020\"))"
      ],
      "execution_count": null,
      "outputs": [
        {
          "output_type": "stream",
          "name": "stdout",
          "text": [
            "True\n"
          ]
        }
      ]
    },
    {
      "cell_type": "code",
      "metadata": {
        "id": "uxW8swn9GYnf",
        "colab": {
          "base_uri": "https://localhost:8080/"
        },
        "outputId": "45a6ca09-863d-4f8c-c138-a97fab37cfa8"
      },
      "source": [
        "# 문제 15. 아래 문자열을 endswith 함수로 파일 이름이 'xlsx'로 끝나는지 확인하기\n",
        "file_name = \"보고서.xlsx\"\n",
        "\n",
        "# 정답 15.\n",
        "print(file_name.endswith(\"xlsx\"))"
      ],
      "execution_count": null,
      "outputs": [
        {
          "output_type": "stream",
          "name": "stdout",
          "text": [
            "True\n"
          ]
        }
      ]
    },
    {
      "cell_type": "code",
      "metadata": {
        "id": "50tB2EFRGihu",
        "colab": {
          "base_uri": "https://localhost:8080/"
        },
        "outputId": "67395b67-1117-4b1c-a76f-fa245f4e91ae"
      },
      "source": [
        "# 문제 16. 다음의 문자열을 btc, krw로 나누기\n",
        "ticker = \"btc_krw\"\n",
        "\n",
        "# 정답 16.\n",
        "ticker = ticker.split('_')\n",
        "print(ticker)"
      ],
      "execution_count": null,
      "outputs": [
        {
          "output_type": "stream",
          "name": "stdout",
          "text": [
            "['btc', 'krw']\n"
          ]
        }
      ]
    },
    {
      "cell_type": "code",
      "metadata": {
        "id": "94Bv-WGbGpAW",
        "colab": {
          "base_uri": "https://localhost:8080/"
        },
        "outputId": "a90c5ff4-1fdc-45f9-f637-39d63c80520a"
      },
      "source": [
        "# 문제 17. lang1과 lang2 리스트의 원소를 모두 갖는 langs 리스트 만들기\n",
        "lang1 = [\"C\", \"C++\", \"JAVA\"]\n",
        "lang2 = [\"Python\", \"Go\", \"C#\"]\n",
        "\n",
        "# 정답 17.\n",
        "langs = []\n",
        "langs = lang1+lang2\n",
        "print(langs)"
      ],
      "execution_count": null,
      "outputs": [
        {
          "output_type": "stream",
          "name": "stdout",
          "text": [
            "['C', 'C++', 'JAVA', 'Python', 'Go', 'C#']\n"
          ]
        }
      ]
    },
    {
      "cell_type": "code",
      "metadata": {
        "id": "TsIEgTVbG1cl",
        "colab": {
          "base_uri": "https://localhost:8080/"
        },
        "outputId": "4651e30c-88b9-4fce-e402-71a52cc7b3b0"
      },
      "source": [
        "# 문제 18. 다음 리스트에 저장된 데이터의 개수를 화면에 출력하기\n",
        "cook = [\"피자\", \"김밥\", \"만두\", \"양념치킨\", \"족발\", \"피자\", \"김치만두\", \"쫄면\"]\n",
        "\n",
        "# 정답 18.\n",
        "print(len(cook))"
      ],
      "execution_count": null,
      "outputs": [
        {
          "output_type": "stream",
          "name": "stdout",
          "text": [
            "8\n"
          ]
        }
      ]
    },
    {
      "cell_type": "code",
      "metadata": {
        "id": "WtuIJ2D4HFse",
        "colab": {
          "base_uri": "https://localhost:8080/"
        },
        "outputId": "002faaf0-4e08-4789-eac9-05203a58980e"
      },
      "source": [
        "# 문제 19. 슬라이싱 사용하여 홀수만 출력하기\n",
        "nums = [1, 2, 3, 4, 5, 6, 7, 8, 9, 10]\n",
        "\n",
        "# 정답 19.\n",
        "print(nums[0:10:2])"
      ],
      "execution_count": null,
      "outputs": [
        {
          "output_type": "stream",
          "name": "stdout",
          "text": [
            "[1, 3, 5, 7, 9]\n"
          ]
        }
      ]
    },
    {
      "cell_type": "code",
      "metadata": {
        "id": "C6Q3csBFHkgu",
        "colab": {
          "base_uri": "https://localhost:8080/"
        },
        "outputId": "35ee4be3-befd-4cce-a902-1808f7002d10"
      },
      "source": [
        "# 문제 20. 리스트에 아래의 데이터가 바인딩 되어 있다.\n",
        "interest = ['삼성전자', 'LG전자', 'NAVER', 'SK하이닉스','미래에셋대우']\n",
        "# 아래와 같이 화면에 출력하라.\n",
        "# 출력 예시: 삼성전자/LG전자/NAVER/SK하이닉스/미래에셋대우\n",
        "\n",
        "# 정답 20.\n",
        "for i in interest :\n",
        "  if i != interest[-1] :\n",
        "    print(i, end='/')\n",
        "  else :\n",
        "    print(i)\n"
      ],
      "execution_count": null,
      "outputs": [
        {
          "output_type": "stream",
          "name": "stdout",
          "text": [
            "삼성전자/LG전자/NAVER/SK하이닉스/미래에셋대우\n"
          ]
        }
      ]
    },
    {
      "cell_type": "code",
      "metadata": {
        "id": "GLALcROlH3lO",
        "colab": {
          "base_uri": "https://localhost:8080/"
        },
        "outputId": "14c26272-6957-4676-8c1c-333ef1b92ac1"
      },
      "source": [
        "# 문제 21. 다음 딕셔너리에서 메로나의 가격을 1300으로 수정하라.\n",
        "ice = {\n",
        "    '메로나': 1000,\n",
        "    '폴로포': 1200,\n",
        "    '빵빠레': 1800,\n",
        "    '죠스바': 1200,\n",
        "    '월드콘': 1500\n",
        "}\n",
        "\n",
        "# 정답 21.\n",
        "ice['메로나'] = 1300\n",
        "print(ice)"
      ],
      "execution_count": null,
      "outputs": [
        {
          "output_type": "stream",
          "name": "stdout",
          "text": [
            "{'메로나': 1300, '폴로포': 1200, '빵빠레': 1800, '죠스바': 1200, '월드콘': 1500}\n"
          ]
        }
      ]
    },
    {
      "cell_type": "code",
      "metadata": {
        "id": "VR0TaEKCIVfd",
        "colab": {
          "base_uri": "https://localhost:8080/"
        },
        "outputId": "d753d55f-5d71-4fab-e70a-6c6c5908fb65"
      },
      "source": [
        "# 문제 22. 다음 딕셔너리에서 메로나를 삭제하라.\n",
        "ice = {\n",
        "    '메로나': 1000,\n",
        "    '폴로포': 1200,\n",
        "    '빵빠레': 1800,\n",
        "    '죠스바': 1200,\n",
        "    '월드콘': 1500\n",
        "}\n",
        "\n",
        "# 정답 22.\n",
        "del(ice['메로나'])\n",
        "print(ice)"
      ],
      "execution_count": null,
      "outputs": [
        {
          "output_type": "stream",
          "name": "stdout",
          "text": [
            "{'폴로포': 1200, '빵빠레': 1800, '죠스바': 1200, '월드콘': 1500}\n"
          ]
        }
      ]
    },
    {
      "cell_type": "code",
      "metadata": {
        "id": "FPLJdbcDIfLh",
        "colab": {
          "base_uri": "https://localhost:8080/"
        },
        "outputId": "51b84f92-3cd8-4845-ac79-1c45160c6bdd"
      },
      "source": [
        "# 문제 23. 다음 딕셔너리에서 메로나의 가격을 화면에 출력하라.\n",
        "inventory = {\n",
        "    \"메로나\": [300, 20],\n",
        "    \"비비빅\": [400, 3],\n",
        "    \"죠스바\": [250, 100]\n",
        "}\n",
        "\n",
        "# 정답 23.\n",
        "value_cnt = inventory['메로나']\n",
        "res = value_cnt[0]\n",
        "print(res)"
      ],
      "execution_count": null,
      "outputs": [
        {
          "output_type": "stream",
          "name": "stdout",
          "text": [
            "300\n"
          ]
        }
      ]
    },
    {
      "cell_type": "markdown",
      "metadata": {
        "id": "QeeBJFcoxzTm"
      },
      "source": [
        "연습문제"
      ]
    },
    {
      "cell_type": "code",
      "metadata": {
        "pycharm": {
          "name": "#%%\n"
        },
        "id": "g4N-DzKqxzTm",
        "colab": {
          "base_uri": "https://localhost:8080/"
        },
        "outputId": "113fc00b-bcb9-4591-9365-b6e335098bae"
      },
      "source": [
        "# 문제 24. 두 정수 A와 B를 입력받은 다음, A+B, A-B, A*B, A/B(몫), A%B(나머지) 정수형 결과값을 출력하는 프로그램을 작성하시오.\n",
        "# 입력 시, A에 32, B에 3 입력하세요.\n",
        "# 문제 링크: https://www.acmicpc.net/problem/10869\n",
        "\n",
        "# 정답 24.\n",
        "values = input()\n",
        "values = values.split()\n",
        "a = int(values[0])\n",
        "b = int(values[1])\n",
        "# 코드 작성: A+B 결과값 출력\n",
        "print(a+b)\n",
        "# 코드 작성: A-B 결과값 출력\n",
        "print(a-b)\n",
        "# 코드 작성: A*B 결과값 출력\n",
        "print(a*b)\n",
        "# 코드 작성: A/B 결과값 출력\n",
        "print(int(a/b))\n",
        "# 코드 작성: A%B 결과값 출력\n",
        "print(a%b)"
      ],
      "execution_count": null,
      "outputs": [
        {
          "output_type": "stream",
          "name": "stdout",
          "text": [
            "32 3\n",
            "35\n",
            "29\n",
            "96\n",
            "10\n",
            "2\n"
          ]
        }
      ]
    },
    {
      "cell_type": "code",
      "metadata": {
        "pycharm": {
          "name": "#%%\n"
        },
        "id": "JNXxUSEcxzTm",
        "colab": {
          "base_uri": "https://localhost:8080/"
        },
        "outputId": "fc25f7de-3b3b-4617-aa2f-2d881bf09196"
      },
      "source": [
        "# 문제 25. 최초로 이익이 발생하는 판매량(> 손익분기점)을 출력한다. 이익이 발생하지 않으면 -1을 출력한다.\n",
        "# A는 고정비용, B는 가변 비용, C는 제품 가격이다.\n",
        "# 입력 시 1000 70 170 입력하세요.\n",
        "# 문제 링크: https://www.acmicpc.net/problem/1712\n",
        "# 손익분기점 계산식: a + b * x = c * x\n",
        "\n",
        "# 정답 25.\n",
        "values = input()\n",
        "values = values.split()\n",
        "a = int(values[0])\n",
        "b = int(values[1])\n",
        "c = int(values[2])\n",
        "# A는 고정비용, B는 가변 비용, C는 제품 가격이다.\n",
        "# 손익분기점 계산식: a + b * x = c * x\n",
        "# 코드 작성: 이익이 발생하지 않는 경우 -1 출력\n",
        "# 코드 작성: 최초로 이익이 발생하는 정수형 판매량(> 손익분기점) 출력\n",
        "x = a/(c-b)\n",
        "if x>0 :\n",
        "  print(int(x+1))\n",
        "else :\n",
        "  print('-1')\n"
      ],
      "execution_count": null,
      "outputs": [
        {
          "output_type": "stream",
          "name": "stdout",
          "text": [
            "1000 70 170\n",
            "11\n"
          ]
        }
      ]
    },
    {
      "cell_type": "code",
      "metadata": {
        "pycharm": {
          "name": "#%%\n"
        },
        "id": "Ps5wJEavxzTm",
        "colab": {
          "base_uri": "https://localhost:8080/"
        },
        "outputId": "09beae59-ca76-4e5c-ed59-1fee9bd76df9"
      },
      "source": [
        "# 문제 26. 슬라이싱 사용하여 리스트의 숫자를 역 방향으로 출력하기\n",
        "nums = [1, 2, 3, 4, 5]\n",
        "\n",
        "# 정답 26.\n",
        "print(nums[::-1])"
      ],
      "execution_count": 1,
      "outputs": [
        {
          "output_type": "stream",
          "name": "stdout",
          "text": [
            "[5, 4, 3, 2, 1]\n"
          ]
        }
      ]
    },
    {
      "cell_type": "code",
      "metadata": {
        "pycharm": {
          "name": "#%%\n"
        },
        "id": "IR-ZCAzbxzTm",
        "colab": {
          "base_uri": "https://localhost:8080/"
        },
        "outputId": "ae737f2c-0e43-49b7-f6af-067f0d40f1ca"
      },
      "source": [
        "# 문제 27. 회사 이름이 슬래시 ('/')로 구분되어 하나의 문자열로 저장되어 있다.\n",
        "string = \"삼성전자/LG전자/NAVER\"\n",
        "# 이를 3개의 회사 이름으로 분리시키기\n",
        "string = string.split('/')\n",
        "# 정답 27.\n",
        "print(string)"
      ],
      "execution_count": null,
      "outputs": [
        {
          "output_type": "stream",
          "name": "stdout",
          "text": [
            "['삼성전자', 'LG전자', 'NAVER']\n"
          ]
        }
      ]
    },
    {
      "cell_type": "code",
      "metadata": {
        "pycharm": {
          "name": "#%%\n"
        },
        "id": "EKfshouxxzTn",
        "colab": {
          "base_uri": "https://localhost:8080/"
        },
        "outputId": "ce530f3b-8969-4182-e22d-8bd026af9ab2"
      },
      "source": [
        "# 문제 28. 다음 딕셔너리에서 key 값으로만 구성된 리스트를 생성하라.\n",
        "icecream = {\"탱크보이\": 1200, \"폴라포\": 1200, \"빵빠레\": 1800, \"월드콘\": 1500, \"메로나\": 1000}\n",
        "\n",
        "# 정답 28.\n",
        "icecreamkeys = list(icecream.keys())\n",
        "print(icecreamkeys)"
      ],
      "execution_count": null,
      "outputs": [
        {
          "output_type": "stream",
          "name": "stdout",
          "text": [
            "['탱크보이', '폴라포', '빵빠레', '월드콘', '메로나']\n"
          ]
        }
      ]
    },
    {
      "cell_type": "code",
      "metadata": {
        "pycharm": {
          "name": "#%%\n"
        },
        "id": "GcbkcK0cxzTn",
        "colab": {
          "base_uri": "https://localhost:8080/"
        },
        "outputId": "9dbf5bb5-0daa-48be-8687-51b6d48deff1"
      },
      "source": [
        "# 문제 29. 다음 딕셔너리에서 values 값으로만 구성된 리스트를 생성하라.\n",
        "icecream = {\"탱크보이\": 1200, \"폴라포\": 1200, \"빵빠레\": 1800, \"월드콘\": 1500, \"메로나\": 1000}\n",
        "\n",
        "# 정답 29.\n",
        "icecreamvalues = list(icecream.values())\n",
        "print(icecreamvalues)"
      ],
      "execution_count": null,
      "outputs": [
        {
          "output_type": "stream",
          "name": "stdout",
          "text": [
            "[1200, 1200, 1800, 1500, 1000]\n"
          ]
        }
      ]
    },
    {
      "cell_type": "code",
      "metadata": {
        "id": "Hd6nbq2A0oeL"
      },
      "source": [],
      "execution_count": null,
      "outputs": []
    }
  ]
}