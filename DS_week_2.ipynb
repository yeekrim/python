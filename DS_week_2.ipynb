{
  "nbformat": 4,
  "nbformat_minor": 0,
  "metadata": {
    "colab": {
      "provenance": []
    },
    "kernelspec": {
      "name": "python3",
      "language": "python",
      "display_name": "Python 3"
    }
  },
  "cells": [
    {
      "cell_type": "code",
      "metadata": {
        "pycharm": {
          "name": "#%%\n"
        },
        "id": "8IzQm6RA5Pfz",
        "colab": {
          "base_uri": "https://localhost:8080/"
        },
        "outputId": "3a53f927-c45f-4a44-e51e-25dfd7a04531"
      },
      "source": [
        "# 여러분의 이름과 학번을 출력하세요.\n",
        "name = \"이경림\"\n",
        "id = \"20221999\"\n",
        "print(name, id)"
      ],
      "execution_count": null,
      "outputs": [
        {
          "output_type": "stream",
          "name": "stdout",
          "text": [
            "이경림 20221999\n"
          ]
        }
      ]
    },
    {
      "cell_type": "code",
      "metadata": {
        "pycharm": {
          "name": "#%%\n"
        },
        "id": "f4WRixhR5Pf6",
        "colab": {
          "base_uri": "https://localhost:8080/"
        },
        "outputId": "2fc2b169-7612-4bb6-8679-5aaaea4f0b3a"
      },
      "source": [
        "# 문제 1. for문과 range 구문을 사용해서 0~9까지 한 라인에 숫자 하나씩 순차적으로 출력하는 프로그램을 작성하라.\n",
        "\n",
        "# 정답 1.\n",
        "for i in range(10) :\n",
        "  print(i, end='')"
      ],
      "execution_count": null,
      "outputs": [
        {
          "output_type": "stream",
          "name": "stdout",
          "text": [
            "0123456789"
          ]
        }
      ]
    },
    {
      "cell_type": "code",
      "metadata": {
        "pycharm": {
          "name": "#%%\n"
        },
        "id": "QAa1ORhK5Pf8",
        "colab": {
          "base_uri": "https://localhost:8080/"
        },
        "outputId": "229e4ce9-3db7-4236-be89-dfa45912dce0"
      },
      "source": [
        "# 문제 2. for문과 range 구문을 사용해서 0~9까지 한 라인에 숫자 하나씩 순차적으로 본인의 이름과 함께 출력하는 프로그램을 작성하라.\n",
        "# 출력 예시: 0 홍길동\n",
        "\n",
        "# 정답 2.\n",
        "for i in range(10) :\n",
        "  print(\"%d 이경림\" %i)"
      ],
      "execution_count": null,
      "outputs": [
        {
          "output_type": "stream",
          "name": "stdout",
          "text": [
            "0 이경림\n",
            "1 이경림\n",
            "2 이경림\n",
            "3 이경림\n",
            "4 이경림\n",
            "5 이경림\n",
            "6 이경림\n",
            "7 이경림\n",
            "8 이경림\n",
            "9 이경림\n"
          ]
        }
      ]
    },
    {
      "cell_type": "code",
      "metadata": {
        "pycharm": {
          "name": "#%%\n"
        },
        "id": "F2InjVVh5Pf8",
        "colab": {
          "base_uri": "https://localhost:8080/"
        },
        "outputId": "7a7b8fc1-ff72-487d-edc4-71559926166b"
      },
      "source": [
        "# 문제 3. 월드컵은 4년에 한 번 개최된다. 2002년에 월드컵이 개최되었다.\n",
        "# range()를 사용하여 2002~2050년까지 중 월드컵이 개최되는 연도를 출력하라.\n",
        "\n",
        "# 정답 3.\n",
        "for i in range(2002, 2051, 4) :\n",
        "  print(i)"
      ],
      "execution_count": null,
      "outputs": [
        {
          "output_type": "stream",
          "name": "stdout",
          "text": [
            "2002\n",
            "2006\n",
            "2010\n",
            "2014\n",
            "2018\n",
            "2022\n",
            "2026\n",
            "2030\n",
            "2034\n",
            "2038\n",
            "2042\n",
            "2046\n",
            "2050\n"
          ]
        }
      ]
    },
    {
      "cell_type": "code",
      "metadata": {
        "pycharm": {
          "name": "#%%\n"
        },
        "id": "DPr8A0z95Pf9",
        "colab": {
          "base_uri": "https://localhost:8080/"
        },
        "outputId": "6d39206c-9b30-47a7-d535-16dbd5a84174"
      },
      "source": [
        "# 문제 4. 1부터 30까지의 숫자 중 3의 배수를 for문 이용하여 출력하라.\n",
        "\n",
        "# 정답 4.\n",
        "for i in range(3, 31, 3) :\n",
        "  print(i)"
      ],
      "execution_count": null,
      "outputs": [
        {
          "output_type": "stream",
          "name": "stdout",
          "text": [
            "3\n",
            "6\n",
            "9\n",
            "12\n",
            "15\n",
            "18\n",
            "21\n",
            "24\n",
            "27\n",
            "30\n"
          ]
        }
      ]
    },
    {
      "cell_type": "code",
      "metadata": {
        "pycharm": {
          "name": "#%%\n"
        },
        "id": "0w9Fzxci5Pf9",
        "colab": {
          "base_uri": "https://localhost:8080/"
        },
        "outputId": "c98dcfb3-9d04-4bad-aa12-f5e0bdcecae5"
      },
      "source": [
        "# 문제 5. 1부터 30까지의 숫자 중 3의 배수를 리스트 내포(list comprehension)하여 출력하라.\n",
        "\n",
        "# 정답 5.\n",
        "arr = [i*3 for i in range(1,11)]\n",
        "print(arr)"
      ],
      "execution_count": null,
      "outputs": [
        {
          "output_type": "stream",
          "name": "stdout",
          "text": [
            "[3, 6, 9, 12, 15, 18, 21, 24, 27, 30]\n"
          ]
        }
      ]
    },
    {
      "cell_type": "code",
      "metadata": {
        "pycharm": {
          "name": "#%%\n"
        },
        "id": "SXD6A2We5Pf-",
        "colab": {
          "base_uri": "https://localhost:8080/"
        },
        "outputId": "f37e0fee-28a5-4d9d-d192-675622c37ea8"
      },
      "source": [
        "# 문제 6. 20부터 0까지 1씩 감소하는 숫자들을 리스트 내포하여 출력하라.\n",
        "\n",
        "# 정답 6.\n",
        "arr = [i for i in range(20, -1, -1)]\n",
        "print(arr)"
      ],
      "execution_count": null,
      "outputs": [
        {
          "output_type": "stream",
          "name": "stdout",
          "text": [
            "[20, 19, 18, 17, 16, 15, 14, 13, 12, 11, 10, 9, 8, 7, 6, 5, 4, 3, 2, 1, 0]\n"
          ]
        }
      ]
    },
    {
      "cell_type": "code",
      "metadata": {
        "pycharm": {
          "name": "#%%\n"
        },
        "id": "xXkDiwsa5Pf-",
        "colab": {
          "base_uri": "https://localhost:8080/"
        },
        "outputId": "4069182d-3a52-4cbf-f362-01dd8c650853"
      },
      "source": [
        "# 문제 7. 구구단 3단을 for문, range() 이용하고 if문 없이 출력하라. 단 홀수 번째만 출력한다.\n",
        "# 출력 예시: 3, 9, 15, 21, 27\n",
        "\n",
        "# 정답 7.\n",
        "for i in range(1,10,2) :\n",
        "  print(3*i)"
      ],
      "execution_count": null,
      "outputs": [
        {
          "output_type": "stream",
          "name": "stdout",
          "text": [
            "3\n",
            "9\n",
            "15\n",
            "21\n",
            "27\n"
          ]
        }
      ]
    },
    {
      "cell_type": "code",
      "metadata": {
        "pycharm": {
          "name": "#%%\n"
        },
        "id": "m0AoJfjd5Pf_",
        "colab": {
          "base_uri": "https://localhost:8080/"
        },
        "outputId": "9ee031fb-d995-4077-afe8-225811afb44c"
      },
      "source": [
        "# 문제 8. 구구단 3단을 for문, range(), if문 이용하여 출력하라. 단 홀수 번째만 출력한다.\n",
        "# 출력 예시: 3, 9, 15, 21, 27\n",
        "\n",
        "# 정답 8.\n",
        "for i in range(1,10) :\n",
        "  if i%2==1 :\n",
        "    print(3*i)"
      ],
      "execution_count": null,
      "outputs": [
        {
          "output_type": "stream",
          "name": "stdout",
          "text": [
            "3\n",
            "9\n",
            "15\n",
            "21\n",
            "27\n"
          ]
        }
      ]
    },
    {
      "cell_type": "code",
      "metadata": {
        "pycharm": {
          "name": "#%%\n"
        },
        "id": "0E3xT42O5Pf_",
        "colab": {
          "base_uri": "https://localhost:8080/"
        },
        "outputId": "388f162d-1bb9-4590-a3e9-0cd9d1e76185"
      },
      "source": [
        "# 문제 9. 구구단 3단을 리스트 내포(range(step) 포함) 이용하여 출력하라. 단 홀수 번째만 출력한다.\n",
        "# 출력 예시: 3, 9, 15, 21, 27\n",
        "\n",
        "# 정답 9.\n",
        "arr = [3*i for i in range(1,10,2)]\n",
        "print(arr)"
      ],
      "execution_count": null,
      "outputs": [
        {
          "output_type": "stream",
          "name": "stdout",
          "text": [
            "[3, 9, 15, 21, 27]\n"
          ]
        }
      ]
    },
    {
      "cell_type": "code",
      "metadata": {
        "pycharm": {
          "name": "#%%\n"
        },
        "id": "DVorw4Gk5Pf_",
        "colab": {
          "base_uri": "https://localhost:8080/"
        },
        "outputId": "f83dfcad-3ae0-4803-8896-55a94a1add7f"
      },
      "source": [
        "# 문제 10. 구구단 3단을 리스트 내포(if문 포함) 이용하여 출력하라. 단 홀수 번째만 출력한다.\n",
        "# 출력 예시: 3, 9, 15, 21, 27\n",
        "\n",
        "# 정답 10.\n",
        "arr = [3*i for i in range(10) if i%2==1]\n",
        "print(arr)"
      ],
      "execution_count": null,
      "outputs": [
        {
          "output_type": "stream",
          "name": "stdout",
          "text": [
            "[3, 9, 15, 21, 27]\n"
          ]
        }
      ]
    },
    {
      "cell_type": "code",
      "metadata": {
        "pycharm": {
          "name": "#%%\n"
        },
        "id": "N_SDF3Bs5PgA",
        "colab": {
          "base_uri": "https://localhost:8080/"
        },
        "outputId": "6ba61103-7dbb-45aa-b577-cf148786a647"
      },
      "source": [
        "# 문제 11. 여러분의 학번과 이름 문자열을 화면에 출력하는 print_student_info() 함수를 정의하라.\n",
        "\n",
        "# 정답 11.\n",
        "# 코드 작성: id, name 매개변수 사용하여 표준출력하는 함수\n",
        "def print_student_info(id, name) :\n",
        "  id = \"20221999\"\n",
        "  name = \"이경림\"\n",
        "  print(id, name)\n",
        "# 출력 구문: 수정하지 말 것\n",
        "print_student_info(id, name)"
      ],
      "execution_count": null,
      "outputs": [
        {
          "output_type": "stream",
          "name": "stdout",
          "text": [
            "20221999 이경림\n"
          ]
        }
      ]
    },
    {
      "cell_type": "code",
      "metadata": {
        "pycharm": {
          "name": "#%%\n"
        },
        "id": "HMfATXxw5PgA",
        "colab": {
          "base_uri": "https://localhost:8080/"
        },
        "outputId": "067160b5-6517-41ca-c330-ea44848a340c"
      },
      "source": [
        "# 문제 12. 문제 11에서 정의한 print_student_info 함수를 5번 호출하라.\n",
        "\n",
        "# 정답 12.\n",
        "for i in range(5) :\n",
        "  print_student_info(id, name)"
      ],
      "execution_count": null,
      "outputs": [
        {
          "output_type": "stream",
          "name": "stdout",
          "text": [
            "20221999 이경림\n",
            "20221999 이경림\n",
            "20221999 이경림\n",
            "20221999 이경림\n",
            "20221999 이경림\n"
          ]
        }
      ]
    },
    {
      "cell_type": "code",
      "metadata": {
        "pycharm": {
          "name": "#%%\n"
        },
        "id": "16UoR01a5PgB",
        "colab": {
          "base_uri": "https://localhost:8080/"
        },
        "outputId": "747cbf02-737f-4bbb-db75-faff187e16f5"
      },
      "source": [
        "# 문제 13. 아래의 에러가 발생하는 원인을 찾고 코드를 수정하여 문제를 해결하라.\n",
        "\n",
        "def hello_hello():\n",
        "  print(\"Hi\")\n",
        "hello_hello()\n",
        "# 정답 13.\n",
        "  #함수가 정의되기 전에 함수를 호출해 에러가 발생하였다. 함수정의 후에 호출 시 에러가 발생하지 않는다."
      ],
      "execution_count": null,
      "outputs": [
        {
          "output_type": "stream",
          "name": "stdout",
          "text": [
            "Hi\n"
          ]
        }
      ]
    },
    {
      "cell_type": "code",
      "metadata": {
        "pycharm": {
          "name": "#%%\n"
        },
        "id": "TSLqMU5K5PgB",
        "colab": {
          "base_uri": "https://localhost:8080/"
        },
        "outputId": "8f051df9-1ddb-4d7c-87d4-abc9757794f5"
      },
      "source": [
        "# 문제 14. 아래 코드의 실행 결과를 예측하여 출력하라.\n",
        "print(\"B\")\n",
        "\n",
        "def message():\n",
        "    print(\"A\")\n",
        "\n",
        "print(\"C\")\n",
        "message()\n",
        "\n",
        "# 정답 14.\n",
        "# 코드 작성: 아래 print 함수에 예측한 결과를 문자열로 넣기\n",
        "print(\"BCA\")"
      ],
      "execution_count": null,
      "outputs": [
        {
          "output_type": "stream",
          "name": "stdout",
          "text": [
            "B\n",
            "C\n",
            "A\n",
            "BCA\n"
          ]
        }
      ]
    },
    {
      "cell_type": "code",
      "metadata": {
        "pycharm": {
          "name": "#%%\n"
        },
        "id": "Kw0omIif5PgB",
        "colab": {
          "base_uri": "https://localhost:8080/"
        },
        "outputId": "d86d5b5e-3142-489f-d11b-8672cb20a42e"
      },
      "source": [
        "# 문제 15. 아래 코드의 실행 결과를 예측하여 출력하라.\n",
        "print(\"B\")\n",
        "def message1():\n",
        "    print(\"A\")\n",
        "print(\"C\")\n",
        "def message2():\n",
        "    print(\"D\")\n",
        "message1()\n",
        "print(\"E\")\n",
        "message2()\n",
        "\n",
        "#정답 15.\n",
        "# 코드 작성: 아래 print 함수에 예측한 결과를 문자열로 넣기\n",
        "print(\"BCAED\")"
      ],
      "execution_count": null,
      "outputs": [
        {
          "output_type": "stream",
          "name": "stdout",
          "text": [
            "B\n",
            "C\n",
            "A\n",
            "E\n",
            "D\n",
            "BCAED\n"
          ]
        }
      ]
    },
    {
      "cell_type": "code",
      "metadata": {
        "pycharm": {
          "name": "#%%\n"
        },
        "id": "V9wUkr3S5PgB",
        "colab": {
          "base_uri": "https://localhost:8080/"
        },
        "outputId": "973a6d27-cdfb-4d69-a393-a72fadfadff2"
      },
      "source": [
        "# 문제 16. 아래와 같은 에러가 발생하는 원인을 찾고 코드를 수정하여 문제를 해결하라.\n",
        "# 출력값 예시: 안녕3\n",
        "def test(a, b) :\n",
        "    print(a, b)\n",
        "\n",
        "# 정답 16.\n",
        "  # 서로 다른 자료형 간 사칙연산이 허용되지 않는다.\n",
        "# 출력 구문: 수정하지 말 것\n",
        "test(\"에러 싫어요\", 3)"
      ],
      "execution_count": null,
      "outputs": [
        {
          "output_type": "stream",
          "name": "stdout",
          "text": [
            "에러 싫어요 3\n"
          ]
        }
      ]
    },
    {
      "cell_type": "code",
      "metadata": {
        "pycharm": {
          "name": "#%%\n"
        },
        "id": "9usChviG5PgC",
        "colab": {
          "base_uri": "https://localhost:8080/"
        },
        "outputId": "44ac0cd8-06b2-4a0f-8a5c-09032f3a55c7"
      },
      "source": [
        "# 문제 17. 성적 리스트를 입력받아 평균을 출력하는 print_score 함수를 정의하라.\n",
        "# sum(): 객체의 숫자 합을 반환하는 내장함수\n",
        "# len(): 객체의 길이를 반환하는 내장함수\n",
        "\n",
        "# 정답 17.\n",
        "# 코드 작성: print_score 함수\n",
        "def print_score(list1) :\n",
        "  a = sum(list1)\n",
        "  b = len(list1)\n",
        "  print(a/b)\n",
        "\n",
        "# 출력 구문: 수정하지 말 것\n",
        "print_score([1, 2, 3])"
      ],
      "execution_count": null,
      "outputs": [
        {
          "output_type": "stream",
          "name": "stdout",
          "text": [
            "2.0\n"
          ]
        }
      ]
    },
    {
      "cell_type": "code",
      "metadata": {
        "pycharm": {
          "name": "#%%\n"
        },
        "id": "1Azz3ETJ5PgC",
        "colab": {
          "base_uri": "https://localhost:8080/"
        },
        "outputId": "354c71f7-94ef-48ff-aab1-6afa991bfb46"
      },
      "source": [
        "# 문제 18. 문제 17의 print_score 함수를 키워드 인수 방식(매개변수 지정, [1, 2, 3] 대입)으로 호출하라.\n",
        "\n",
        "# 정답 18.\n",
        "def print_score(list1) :\n",
        "  a = sum(list1)\n",
        "  b = len(list1)\n",
        "  print(a/b)\n",
        "  \n",
        "print_score(list1=[1,2,3])"
      ],
      "execution_count": 52,
      "outputs": [
        {
          "output_type": "stream",
          "name": "stdout",
          "text": [
            "2.0\n"
          ]
        }
      ]
    },
    {
      "cell_type": "code",
      "metadata": {
        "pycharm": {
          "name": "#%%\n"
        },
        "id": "-XtIRlzO5PgC",
        "colab": {
          "base_uri": "https://localhost:8080/"
        },
        "outputId": "d1535537-9b79-4655-8c64-425825b2bdf4"
      },
      "source": [
        "# 문제 19. 문제 17의 print_score 함수의 매개변수 초기값을 [1, 1, 1]로 설정하고 인수 없이 호출하라.\n",
        "\n",
        "# 정답 19.\n",
        "# 코드 작성: print_score 함수\n",
        "def print_score() :\n",
        "  arr = [1,1,1]\n",
        "  a = sum(arr)\n",
        "  b = len(arr)\n",
        "  print(a/b)\n",
        "# 출력 구문: 수정하지 말 것\n",
        "print_score()"
      ],
      "execution_count": null,
      "outputs": [
        {
          "output_type": "stream",
          "name": "stdout",
          "text": [
            "1.0\n"
          ]
        }
      ]
    },
    {
      "cell_type": "code",
      "metadata": {
        "pycharm": {
          "name": "#%%\n"
        },
        "id": "PMOdD4il5PgD",
        "colab": {
          "base_uri": "https://localhost:8080/"
        },
        "outputId": "a9853efb-0471-42f1-bdb4-92fd4892ae46"
      },
      "source": [
        "# 문제 20. 아래 코드의 실행 결과를 예측하여 출력하라.\n",
        "a = 3\n",
        "def vartest(a):\n",
        "  a = a + 1\n",
        "\n",
        "vartest(a)\n",
        "print(a)\n",
        "\n",
        "# 정답 20.\n",
        "# 코드 작성: print 함수의 인수에 예측 결과를 반영\n",
        "print(\"3\") #vartest의 a는 지역변수고 처음에 설정한 변수 a=3이 전역변수이므로 vartest를 처리했다고 하더라도 a의 값은 3에서 바뀌지않음"
      ],
      "execution_count": null,
      "outputs": [
        {
          "output_type": "stream",
          "name": "stdout",
          "text": [
            "3\n",
            "3\n"
          ]
        }
      ]
    },
    {
      "cell_type": "code",
      "metadata": {
        "pycharm": {
          "name": "#%%\n"
        },
        "id": "jHmUbEt_5PgD",
        "colab": {
          "base_uri": "https://localhost:8080/"
        },
        "outputId": "372d8256-378c-41e0-c7cb-1ec1aa51cdc4"
      },
      "source": [
        "# 문제 21. 아래 코드의 실행 결과를 예측하여 출력하라.\n",
        "a = [1]\n",
        "def vartest(a):\n",
        "    a.append(2)\n",
        "\n",
        "vartest(a)\n",
        "print(a)\n",
        "\n",
        "# 정답 21.\n",
        "# 코드 작성: print 함수의 인수에 예측 결과를 반영\n",
        "print(\"[1, 2]\")"
      ],
      "execution_count": null,
      "outputs": [
        {
          "output_type": "stream",
          "name": "stdout",
          "text": [
            "[1, 2]\n",
            "[1, 2]\n"
          ]
        }
      ]
    },
    {
      "cell_type": "code",
      "metadata": {
        "pycharm": {
          "name": "#%%\n"
        },
        "id": "WCBX2L7i5PgD",
        "colab": {
          "base_uri": "https://localhost:8080/"
        },
        "outputId": "3fec492c-db90-42e5-8ad0-76b1a2d5aef8"
      },
      "source": [
        "# 문제 22. 아래 코드의 실행 결과를 예측하여 출력하라.\n",
        "a = 1\n",
        "def vartest():\n",
        "  global a\n",
        "  a = a + 1\n",
        "\n",
        "vartest()\n",
        "print(a)\n",
        "\n",
        "# 정답 22.\n",
        "# 코드 작성: print 함수의 인수에 예측 결과를 반영\n",
        "print(\"2\") #vartest에서의 a를 전역변수로 설정해줬기 때문에 값이 변화한다."
      ],
      "execution_count": null,
      "outputs": [
        {
          "output_type": "stream",
          "name": "stdout",
          "text": [
            "2\n",
            "2\n"
          ]
        }
      ]
    },
    {
      "cell_type": "code",
      "metadata": {
        "pycharm": {
          "name": "#%%\n"
        },
        "id": "-PzfReHh5PgE",
        "colab": {
          "base_uri": "https://localhost:8080/"
        },
        "outputId": "caebfead-941a-4f53-d26e-b82990b35522"
      },
      "source": [
        "# 문제 23. 아래 코드의 실행 결과를 예측하여 출력하라.\n",
        "def print_student_info(id, name):\n",
        "  print(id, name)\n",
        "\n",
        "id = '11112222'\n",
        "name = '홍길동'\n",
        "print_student_info(name, id)\n",
        "\n",
        "# 정답 23.\n",
        "# 코드 작성: print 함수의 인수에 예측 결과를 반영\n",
        "print(\"홍길동 11112222\")"
      ],
      "execution_count": null,
      "outputs": [
        {
          "output_type": "stream",
          "name": "stdout",
          "text": [
            "홍길동 11112222\n",
            "홍길동 11112222\n"
          ]
        }
      ]
    },
    {
      "cell_type": "code",
      "metadata": {
        "pycharm": {
          "name": "#%%\n"
        },
        "id": "NmhpH9i_5PgE",
        "colab": {
          "base_uri": "https://localhost:8080/"
        },
        "outputId": "997d1171-546e-446a-d9bc-915620f8255e"
      },
      "source": [
        "# 문제 24. 아래 코드의 실행 결과를 예측하여 출력하라.\n",
        "def print_student_info(id, name):\n",
        "  print(id, name)\n",
        "\n",
        "id = '11112222'\n",
        "name = '홍길동'\n",
        "print_student_info(name=name, id=id)\n",
        "\n",
        "# 정답 24.\n",
        "# 코드 작성: print 함수의 인수에 예측 결과를 반영\n",
        "print(\"11112222 홍길동\")"
      ],
      "execution_count": null,
      "outputs": [
        {
          "output_type": "stream",
          "name": "stdout",
          "text": [
            "11112222 홍길동\n",
            "11112222 홍길동\n"
          ]
        }
      ]
    },
    {
      "cell_type": "code",
      "metadata": {
        "pycharm": {
          "name": "#%%\n"
        },
        "id": "KOagNOAE5PgE",
        "colab": {
          "base_uri": "https://localhost:8080/"
        },
        "outputId": "131c4718-12e2-4eac-a73d-cd60af7c9326"
      },
      "source": [
        "# 문제 25. 아래 코드의 실행 결과를 예측하여 출력하라.\n",
        "def print_student_info(*args):\n",
        "  print(args)\n",
        "\n",
        "id = '11112222'\n",
        "name = '홍길동'\n",
        "print_student_info(name, id)\n",
        "\n",
        "# 정답 25.\n",
        "# 코드 작성: print 함수의 인수에 예측 결과를 반영\n",
        "print(\"(\\'홍길동\\', \\'11112222\\')\")"
      ],
      "execution_count": null,
      "outputs": [
        {
          "output_type": "stream",
          "name": "stdout",
          "text": [
            "('홍길동', '11112222')\n",
            "('홍길동', '11112222')\n"
          ]
        }
      ]
    },
    {
      "cell_type": "markdown",
      "metadata": {
        "id": "-SVo2_-C5PgE"
      },
      "source": [
        "## 연습문제\n"
      ]
    },
    {
      "cell_type": "code",
      "metadata": {
        "pycharm": {
          "name": "#%%\n"
        },
        "id": "PLgoNHBj5PgF",
        "colab": {
          "base_uri": "https://localhost:8080/"
        },
        "outputId": "fbb36e16-5945-4a0f-ffb6-bb0cfdb5a445"
      },
      "source": [
        "# 문제 26. 1~10까지의 숫자 중 모든 홀수의 합을 출력하는 프로그램을 for 문을 사용하여 작성하라.\n",
        "\n",
        "# 정답 26.\n",
        "arr = [i for i in range(1,11) if i%2==1]\n",
        "a = sum(arr)\n",
        "print(a)"
      ],
      "execution_count": null,
      "outputs": [
        {
          "output_type": "stream",
          "name": "stdout",
          "text": [
            "25\n"
          ]
        }
      ]
    },
    {
      "cell_type": "code",
      "metadata": {
        "pycharm": {
          "name": "#%%\n"
        },
        "id": "ujksrbEh5PgF",
        "colab": {
          "base_uri": "https://localhost:8080/"
        },
        "outputId": "dce5823e-ea99-430f-9ed2-bca8c17cb163"
      },
      "source": [
        "# 문제 27. 두 정수 A와 B가 주어졌을 때, A와 B를 비교하는 프로그램을 작성하시오.\n",
        "# 입력 시, A에 3, B에 2 입력하세요.\n",
        "# 문제 링크: https://www.acmicpc.net/problem/1330\n",
        "\n",
        "# 정답 27.\n",
        "values = input()\n",
        "values = values.split()\n",
        "a = int(values[0])\n",
        "b = int(values[1])\n",
        "# 코드 작성: A와 B를 비교하여 결과 출력\n",
        "if a>b :\n",
        "  print(\">\")\n",
        "elif a==b :\n",
        "  print(\"=\")\n",
        "else :\n",
        "  print(\"<\")"
      ],
      "execution_count": null,
      "outputs": [
        {
          "output_type": "stream",
          "name": "stdout",
          "text": [
            "3 2\n",
            ">\n"
          ]
        }
      ]
    },
    {
      "cell_type": "code",
      "metadata": {
        "pycharm": {
          "name": "#%%\n"
        },
        "id": "uz440BqW5PgF",
        "colab": {
          "base_uri": "https://localhost:8080/"
        },
        "outputId": "ab6bddff-9f68-4bdc-dc33-c8ad2df2ab77"
      },
      "source": [
        "# 문제 28. 하나의 문자를 입력받아 문자열 끝에 \":D\" 스마일 문자열을 이어 붙여 출력하는\n",
        "# print_with_smile 함수를 정의하라.\n",
        "# 출력값 예시: (^ ^):D\n",
        "\n",
        "# 정답 28.\n",
        "# 코드 작성: print_with_smile 함수\n",
        "def print_with_smile(str) :\n",
        "  print(str, end=':D')\n",
        "# 출력 구문: 수정하지 말 것\n",
        "print_with_smile(\"(^ ^)\")"
      ],
      "execution_count": null,
      "outputs": [
        {
          "output_type": "stream",
          "name": "stdout",
          "text": [
            "(^ ^):D"
          ]
        }
      ]
    },
    {
      "cell_type": "code",
      "metadata": {
        "pycharm": {
          "name": "#%%\n"
        },
        "id": "BnElwLjp5PgF",
        "colab": {
          "base_uri": "https://localhost:8080/"
        },
        "outputId": "12f8a6bc-32e6-400b-c81a-9e0322aaf448"
      },
      "source": [
        "# 문제 29. 입력된 문자열을 역순으로 출력하는 print_reverse 함수를 정의하라.\n",
        "\n",
        "# 정답 29.\n",
        "# 코드 작성: print_reverse 함수\n",
        "def print_reverse(str) :\n",
        "  for i in str[::-1] :\n",
        "    print(i, end='')\n",
        "# 출력 구문: 수정하지 말 것\n",
        "print_reverse(\"!!브이바 는오나 서에짬\")"
      ],
      "execution_count": null,
      "outputs": [
        {
          "output_type": "stream",
          "name": "stdout",
          "text": [
            "짬에서 나오는 바이브!!"
          ]
        }
      ]
    },
    {
      "cell_type": "code",
      "metadata": {
        "pycharm": {
          "name": "#%%\n"
        },
        "id": "o3tNHz4K5PgG",
        "colab": {
          "base_uri": "https://localhost:8080/"
        },
        "outputId": "5d339919-0543-41b0-d4db-e5fcbb1a710b"
      },
      "source": [
        "# 문제 30. 아래 코드의 오류 원인을 찾고 수정하여 출력값 예시처럼 출력하라.\n",
        "# 출력값 예시: 홍길동 11112222\n",
        "def print_student_info(*args):\n",
        "  a, b = args #매개변수로 넘어오는 요소가 2개인데 변수로 3개를 지정해 오류가 나는 것이다. 변수를 2개로 맞춰주면 해결된다.\n",
        "  print(a, b)\n",
        "\n",
        "id = '11112222'\n",
        "name = '홍길동'\n",
        "print_student_info(name, id)\n",
        "\n",
        "# 정답 30.\n"
      ],
      "execution_count": null,
      "outputs": [
        {
          "output_type": "stream",
          "name": "stdout",
          "text": [
            "홍길동 11112222\n"
          ]
        }
      ]
    },
    {
      "cell_type": "code",
      "metadata": {
        "id": "Gs4OAGyU58Xw"
      },
      "source": [],
      "execution_count": null,
      "outputs": []
    }
  ]
}
